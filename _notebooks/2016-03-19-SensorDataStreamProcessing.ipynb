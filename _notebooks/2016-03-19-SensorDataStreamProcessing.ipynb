{
 "cells": [
  {
   "cell_type": "markdown",
   "metadata": {},
   "source": [
    "# Merging Sensor Data Streams with Python Generators and Priority Queues\n",
    "> How I used Python generators to process streaming data from maritime sensors.\n",
    "\n",
    "- toc:true\n",
    "- badges: true\n",
    "- comments: true\n",
    "- author: Luca Cazzanti\n",
    "- categories: [sensors, streaming data, Python generators]\n",
    "- image: images/sensors_example.png"
   ]
  },
  {
   "cell_type": "markdown",
   "metadata": {},
   "source": [
    "A recurring task in multi-sensor data processing is merging -- or interleaving -- data from multiple sensors while maintaining chronological order.  For example, you may be combining temperature readings from different weather stations in a region, stringing together the locations of mobile devices recorded by different cell towers, or piecing together the routes taken by maritime vessels from the data they broadcast through the [Automatic Identification System (AIS)](https://en.wikipedia.org/wiki/Automatic_Identification_System).\n",
    "\n",
    "Often, the volume of data recorded by each sensor is large compared to the available RAM; other times each sensor's data fits in memory, but the merged, sorted stream does not; yet other times the available RAM is insufficient even for smaller sensor data volumes because the merge-and-sort operation is carried out on a small, lightweight compute node (Raspberry Pi anyone?). For these reasons, maintaining order with the naive approach of concatenating-then-sorting-in-memory is infeasible. Fortunately, we can use Python generators, iterators, and priority queues from the Python package [heapq](https://docs.python.org/2/library/heapq.html) to achieve ordered, merged data streams from multiple sensors with low memory overhead."
   ]
  },
  {
   "cell_type": "markdown",
   "metadata": {},
   "source": [
    "## Motivating use case: Vessel draft as a proxy for loading/unloading activity in ports\n",
    "<img style=\"float: left; height: 96px; width: 96px; margin-right: 7px\" src= \"my_icons/draft_marks.jpg\" alt=\"Draft marks picture from Wikipedia\" title=\"Draft marks on a vessel. Source: Wikipedia\">"
   ]
  },
  {
   "cell_type": "markdown",
   "metadata": {},
   "source": [
    "Vessels periodically broadcast their [draft](https://en.wikipedia.org/wiki/Draft_%28hull%29) -- the vertical distance between the waterline and the vessel's keel -- through the AIS protocol. Draft readings are used to ensure that loaded vessels to not run aground in shallower waters. Loading and unloading a vessel changes its draft, which can be used as an indicator of progress in port operations and as a proxy for maritime commerce. When multiple AIS data streams report the draft readings, we need to merge them into one unified stream to enable further vessel analytics, such as change detection."
   ]
  },
  {
   "cell_type": "markdown",
   "metadata": {},
   "source": [
    "## Approach\n",
    "In this post I assume that there are two AIS sensor networks and data from each are stored in two separte database tables. For simplicity I also assume there are only two vessels. AIS messages transmitted by the vessels are stored in the database tables in the order they arrive, along with a time stamp. In this post I use [sqlite3](https://docs.python.org/2.7/library/sqlite3.html) to simulate this system and use synthetic datasets to illustrate the key points.\n",
    "\n",
    "* To address the requirement to **use little memory**: use lazy evaluation and generators to iterate over the data streams to avoid creating intermediate data containers. In practice, this means iterating over database connection objects, not over the data in the database.\n",
    "* To address the requirement to **keep sorted order**: delegate sorting of the individual data streams to the database, then use the powerful `heapq.merge()` function to interleave the individual streams into one.\n",
    "\n",
    "These two techniques have been known to software developers for a long time, but they mey be new to scientists (like me) who do not have formal training in software engineering or databases, but need to analyze large data sets."
   ]
  },
  {
   "cell_type": "markdown",
   "metadata": {},
   "source": [
    "## Packages and helper functions"
   ]
  },
  {
   "cell_type": "code",
   "execution_count": 1,
   "metadata": {
    "collapsed": false,
    "jupyter": {
     "outputs_hidden": false
    }
   },
   "outputs": [],
   "source": [
    "# Import packages and define helper functions for the notebook\n",
    "import heapq\n",
    "import sqlite3\n",
    "import matplotlib.pyplot as plt\n",
    "plt.style.use('ggplot')\n",
    "%matplotlib inline\n",
    "\n",
    "\n",
    "def head_db(table_name, n):\n",
    "    \"\"\"\n",
    "    Print the first n records from table_name\n",
    "    \"\"\"\n",
    "    query = \"SELECT * FROM %s LIMIT %s\" % (table_name, n)\n",
    "    conn = sqlite3.connect('vessel_draft.sqlite')\n",
    "    conn.row_factory = sqlite3.Row\n",
    "    result = conn.execute(query)\n",
    "    for row in result:\n",
    "        res = {key: row[key] for key in row.keys()}\n",
    "        print res\n",
    "    conn.close()\n",
    "\n",
    "    \n",
    "def plot_timeseries(data, **kwargs):\n",
    "    \"\"\"\n",
    "    Plot the time series of draft readings for one vessel.\n",
    "    \"\"\"\n",
    "    \n",
    "    (timestamp, vessel_id, draft) = zip(*data)\n",
    "    plt.step(timestamp, draft, **kwargs)\n",
    "    plt.xlabel('Timestamp')\n",
    "    plt.ylabel('Draft')\n",
    "    plt.title('Vessel ID = ' + str(vessel_id[0]))\n",
    "    plt.ylim([min(draft) - 1, max(draft)+1])\n",
    "    plt.xlim([min(timestamp)-1, max(timestamp)+2])\n",
    "\n",
    "    \n",
    "def plot_timeseries_from_tables(table_names):\n",
    "    \"\"\"\n",
    "    Plot the time series of draft readings for one vessel from 2 sensors.\n",
    "    \"\"\"\n",
    "    \n",
    "    plt.figure()\n",
    "    conn = sqlite3.connect('vessel_draft.sqlite')\n",
    "    \n",
    "    query = \"SELECT * FROM %s\" % (table_names[0], )\n",
    "    result = conn.execute(query)\n",
    "    plot_timeseries(result, where='post', marker='o', color='r', alpha=0.5)\n",
    "    plt.hold(True)\n",
    "    \n",
    "    query = \"SELECT * FROM %s \" % (table_names[1], )\n",
    "    result = conn.execute(query)\n",
    "    plot_timeseries(result, where='post', marker='o', color='b', alpha=0.5)\n",
    "    plt.legend(['Sensor 1', 'Sensor 2'], loc='lower right')\n",
    "    \n",
    "    conn.close() \n",
    "\n",
    "    \n",
    "def plot_multi_series(data):\n",
    "    \"\"\"\n",
    "    Plot the time series of draft readings for 2 vessel from 2 sensors.\n",
    "    \"\"\"\n",
    "    \n",
    "    vessel1 = filter(lambda row: row[0] == 1, data)\n",
    "    vessel2 = filter(lambda row: row[0] == 2, data)\n",
    "    plt.figure(figsize=(10,6))\n",
    "    plt.subplot(121)\n",
    "    plot_timeseries(map(lambda row: (row[1], row[0], row[2]), vessel1), where='post', marker='o', color='darkviolet')\n",
    "    plt.subplot(122)\n",
    "    plot_timeseries(map(lambda row: (row[1], row[0], row[2]), vessel2), where='post', marker='o', color='darkviolet')\n",
    "    "
   ]
  },
  {
   "cell_type": "markdown",
   "metadata": {},
   "source": [
    "## Basic scenario: Two sensors and one vessel\n",
    "Assume there are two sensors (two database files), each one recording the draft of a single vessel, the timestamp of the draft reading and the vessel `id`. When a new reading is available, each sensor appends the value and the timestamp to its assigned database table.  Below is an example of what the data sources might look like. Note that the timestamps recorded by one sensor need not match the timestamps of the other, because the sensors operate asynchronosuly and each one records only the data it observes. This can be seen in the plot: some draft readings are common to the two sensors (violet color), but each sensor has access to readings not available to the other (red and blue color)"
   ]
  },
  {
   "cell_type": "code",
   "execution_count": 2,
   "metadata": {
    "collapsed": false,
    "jupyter": {
     "outputs_hidden": false
    }
   },
   "outputs": [
    {
     "name": "stdout",
     "output_type": "stream",
     "text": [
      "{'draft': 12.0, 'id': 1, 'time': 1}\n",
      "{'draft': 12.0, 'id': 1, 'time': 2}\n",
      "{'draft': 12.0, 'id': 1, 'time': 3}\n",
      "{'draft': 12.0, 'id': 1, 'time': 6}\n",
      "{'draft': 18.0, 'id': 1, 'time': 7}\n",
      "{'draft': 18.0, 'id': 1, 'time': 8}\n",
      "{'draft': 18.0, 'id': 1, 'time': 11}\n"
     ]
    }
   ],
   "source": [
    "head_db('sensor1_single_vessel', 7)"
   ]
  },
  {
   "cell_type": "code",
   "execution_count": 3,
   "metadata": {
    "collapsed": false,
    "jupyter": {
     "outputs_hidden": false
    }
   },
   "outputs": [
    {
     "name": "stdout",
     "output_type": "stream",
     "text": [
      "{'draft': 12.0, 'id': 1, 'time': 1}\n",
      "{'draft': 12.0, 'id': 1, 'time': 3}\n",
      "{'draft': 12.0, 'id': 1, 'time': 4}\n",
      "{'draft': 12.0, 'id': 1, 'time': 6}\n",
      "{'draft': 18.0, 'id': 1, 'time': 7}\n",
      "{'draft': 18.0, 'id': 1, 'time': 8}\n",
      "{'draft': 18.0, 'id': 1, 'time': 9}\n"
     ]
    }
   ],
   "source": [
    "head_db('sensor2_single_vessel', 7)"
   ]
  },
  {
   "cell_type": "code",
   "execution_count": 4,
   "metadata": {
    "collapsed": false,
    "jupyter": {
     "outputs_hidden": false
    }
   },
   "outputs": [
    {
     "data": {
      "image/png": "[encoded data removed]",
      "text/plain": [
       "<matplotlib.figure.Figure at 0x7ff754245e50>"
      ]
     },
     "metadata": {},
     "output_type": "display_data"
    }
   ],
   "source": [
    "plot_timeseries_from_tables(['sensor1_single_vessel', 'sensor2_single_vessel'])"
   ]
  },
  {
   "cell_type": "markdown",
   "metadata": {},
   "source": [
    "Let's join the draft readings from the two sensors into one time series ..."
   ]
  },
  {
   "cell_type": "code",
   "execution_count": 5,
   "metadata": {
    "collapsed": false,
    "jupyter": {
     "outputs_hidden": false
    }
   },
   "outputs": [
    {
     "data": {
      "image/png": "[encoded data removed]",
      "text/plain": [
       "<matplotlib.figure.Figure at 0x7ff751d41a50>"
      ]
     },
     "metadata": {},
     "output_type": "display_data"
    }
   ],
   "source": [
    "table_names = ['sensor1_single_vessel', 'sensor2_single_vessel']\n",
    "queries = [\"SELECT * FROM %s\" % table_name for table_name in table_names]\n",
    "\n",
    "# Open one DB connection per table (sensor)\n",
    "conns = [sqlite3.connect('vessel_draft.sqlite') for i in range(len(table_names))]\n",
    "\n",
    "params = zip(conns, queries)    \n",
    "readers = [conn.execute(query) for (conn, query) in params]\n",
    "merged = heapq.merge(*readers)\n",
    "\n",
    "plot_timeseries(merged, where='post', color='darkviolet', marker='o')\n",
    "    \n",
    "for conn in conns:\n",
    "    conn.close()"
   ]
  },
  {
   "cell_type": "markdown",
   "metadata": {},
   "source": [
    "Voila' a merged series of sensor readings, sorted by time!\n",
    "\n",
    "Why does this work and why is this efficient? We rely on lazy evaluation: the `readers` list contains generators over the query results, and the `merged` result is itself a generator. `heapq.merge()` does not read the data in memory to sort it. Instead it creates only the internal data structures necessary to index the underlying data, and returns a generator. When one iterates over this generator, the order in which the items are yielded is the desired sorted order over the merged streams.  \n",
    "\n",
    "Let's take a look at the code in more detail.\n",
    "\n",
    "* Lay out the parameters we will use and open one connection per table (sensor) to the database. We keep the connection objects in the list `conns`.\n",
    "\n",
    "```python\n",
    "table_names = ['sensor1_single_vessel', 'sensor2_single_vessel']\n",
    "queries = [\"SELECT * FROM %s\" % table_name for table_name in table_names]\n",
    "\n",
    "# Open one DB connection per table (sensor)\n",
    "conns = [sqlite3.connect('vessel_draft.sqlite') for i in range(len(table_names))]\n",
    "```\n",
    "* Set up the queries. The `readers` list contains iterators over the query results, but the queries are not yet executed. Later, iterating over each `reader` object will yield a `sqlite3.Row` object from teh corresponding database table.\n",
    "```python\n",
    "params = zip(conns, queries)    \n",
    "readers = [conn.execute(query) for (conn, query) in params]\n",
    "```\n",
    "* Finally, merge the iterators over the data:\n",
    "```python\n",
    "merged = heapq.merge(*readers)\n",
    "```\n",
    "Note that `merged` is itself a generator, thus very little memory is used until it is consumed by the plot function. It is really this simple!"
   ]
  },
  {
   "cell_type": "markdown",
   "metadata": {},
   "source": [
    "## More realistic scenario - Two sensors and multiple vessels\n",
    "But wait, there are many vessels, not just one: A vessel draft data stream is more like the one below, where readings for different vessels may arrive at the same time and different vessel `id`s are interleaved:"
   ]
  },
  {
   "cell_type": "code",
   "execution_count": 6,
   "metadata": {
    "collapsed": false,
    "jupyter": {
     "outputs_hidden": false
    },
    "scrolled": true
   },
   "outputs": [
    {
     "name": "stdout",
     "output_type": "stream",
     "text": [
      "{'draft': 12.0, 'id': 1, 'time': 1}\n",
      "{'draft': 5.0, 'id': 2, 'time': 1}\n",
      "{'draft': 12.0, 'id': 1, 'time': 2}\n",
      "{'draft': 7.0, 'id': 2, 'time': 2}\n",
      "{'draft': 12.0, 'id': 1, 'time': 3}\n",
      "{'draft': 7.0, 'id': 2, 'time': 3}\n"
     ]
    }
   ],
   "source": [
    "head_db('sensor1_multi_vessel', 6)"
   ]
  },
  {
   "cell_type": "markdown",
   "metadata": {},
   "source": [
    "This presents a complication: we want to maintain the chronological order of the sensor readings for each vessel, but the data are ordered globally by timestamp because each reading is recorded in the order it arrives, irrespective of the vessel. Feeding sensor tuples as they are to `heapq.merge()` will produce an undesired result. To address this problem we do the following:\n",
    "* Group together the readings from the same vessels: we can do this simply by modifying the SQL query and use the `ORDER BY` contruct. This achieves vertical ordering of the readings from each sensor.\n",
    "* Re-order the tuple elements presented to `heapq.merge()` in the same way as the `ORDER BY` construct. We do this by declaring explicitly the order of the columns in the SQL `SELECT` statment. This ensures the correct horizontal ordering for the nested sorted index underlying `heapq.merge()`."
   ]
  },
  {
   "cell_type": "code",
   "execution_count": 7,
   "metadata": {
    "collapsed": true,
    "jupyter": {
     "outputs_hidden": true
    }
   },
   "outputs": [],
   "source": [
    "table_names = ['sensor1_multi_vessel', 'sensor2_multi_vessel']\n",
    "# MODIFIED QUERY: nested order by id, time, draft and uses ORDER BY\n",
    "queries = [\"SELECT id, time, draft FROM %s ORDER BY id, time\" % table_name for table_name in table_names]\n",
    "\n",
    "# Open one DB connection per table (sensor)\n",
    "conns = [sqlite3.connect('vessel_draft.sqlite') for i in range(len(table_names))]\n",
    "\n",
    "params = zip(conns, queries)    \n",
    "readers = [conn.execute(query) for (conn, query) in params]\n",
    "merged = heapq.merge(*readers)\n",
    "\n",
    "# Store in list for display\n",
    "result = list(merged)\n",
    "for conn in conns:\n",
    "    conn.close()\n",
    "    "
   ]
  },
  {
   "cell_type": "code",
   "execution_count": 8,
   "metadata": {
    "collapsed": false,
    "jupyter": {
     "outputs_hidden": false
    }
   },
   "outputs": [
    {
     "name": "stdout",
     "output_type": "stream",
     "text": [
      "(id, time, draft)\n",
      "(1, 1, 12.0)\n",
      "(1, 1, 12.0)\n",
      "(1, 2, 12.0)\n",
      "(1, 3, 12.0)\n",
      "(1, 3, 12.0)\n",
      "(1, 4, 12.0)\n",
      "(1, 6, 12.0)\n",
      "(1, 6, 12.0)\n",
      "(1, 7, 18.0)\n",
      "(1, 7, 18.0)\n",
      "...\n",
      "(2, 1, 5.0)\n",
      "(2, 2, 7.0)\n",
      "(2, 2, 7.0)\n",
      "(2, 3, 7.0)\n",
      "(2, 3, 7.0)\n",
      "(2, 4, 7.0)\n",
      "(2, 4, 7.0)\n",
      "(2, 5, 7.0)\n",
      "(2, 6, 10.0)\n",
      "(2, 7, 10.0)\n"
     ]
    },
    {
     "data": {
      "image/png": "[encoded data removed]",
      "text/plain": [
       "<matplotlib.figure.Figure at 0x7ff7519f2790>"
      ]
     },
     "metadata": {},
     "output_type": "display_data"
    }
   ],
   "source": [
    "print \"(id, time, draft)\"\n",
    "for row in result[:10]:\n",
    "    print row\n",
    "print \"...\"\n",
    "for row in result[26:36]:\n",
    "    print row\n",
    "plot_multi_series(result)"
   ]
  },
  {
   "cell_type": "markdown",
   "metadata": {},
   "source": [
    "There it is, a merged stream where the sensor readings for each vessel are ordered by time, and the corresponding plots."
   ]
  },
  {
   "cell_type": "markdown",
   "metadata": {},
   "source": [
    "## Detecting changes in streaming sensor data\n",
    "Tipically we are interested in changes in vessel draft, not in the entire sequence of readings, because draft changes slowly compared to the sampling period of the sensor and because changes in values and the time at which they occur carry the key information about port activities and vessel behavior. Furthermore, different sensors may report redundant readings (same value, same timestamp, same vessel id) that we should filter out. We can easily filter out the redundant information and the readings for which the draft has not changed with the powerful `unique_justseen` recipe, which filters an iterable, keeping an element only if it differs from the previous one. In keeping with our goal of lazy computing, it returns an iterator over the filtered sequence, not the actual data.\n",
    "\n",
    "I downloaded all the recipes available on the [itertools doc page](https://docs.python.org/2/library/itertools.html) and put them in a module called `itertools_recipes`. I use the recipes often, as below:"
   ]
  },
  {
   "cell_type": "code",
   "execution_count": 9,
   "metadata": {
    "collapsed": false,
    "jupyter": {
     "outputs_hidden": false
    }
   },
   "outputs": [
    {
     "name": "stdout",
     "output_type": "stream",
     "text": [
      "(id, time, draft)\n",
      "(1, 1, 12.0)\n",
      "(1, 7, 18.0)\n",
      "(1, 15, 15.0)\n",
      "(2, 1, 5.0)\n",
      "(2, 2, 7.0)\n",
      "(2, 6, 10.0)\n",
      "(2, 16, 7.0)\n"
     ]
    },
    {
     "data": {
      "image/png": "[encoded data removed]",
      "text/plain": [
       "<matplotlib.figure.Figure at 0x7ff751a77210>"
      ]
     },
     "metadata": {},
     "output_type": "display_data"
    }
   ],
   "source": [
    "from itertools_recipes import unique_justseen\n",
    "table_names = ['sensor1_multi_vessel', 'sensor2_multi_vessel']\n",
    "queries = [\"SELECT id, time, draft FROM %s ORDER BY id, time\" % table_name for table_name in table_names]\n",
    "\n",
    "# Open one DB connection per table (sensor)\n",
    "conns = [sqlite3.connect('vessel_draft.sqlite') for i in range(len(table_names))]\n",
    "\n",
    "params = zip(conns, queries)    \n",
    "readers = [conn.execute(query) for (conn, query) in params]\n",
    "merged = heapq.merge(*readers)\n",
    "\n",
    "# THIS IS IT -> Change detection\n",
    "change_points = unique_justseen(merged, key=lambda r: (r[0], r[2]))\n",
    "\n",
    "\n",
    "change_pts_result = list(change_points)\n",
    "\n",
    "for conn in conns:\n",
    "    conn.close()\n",
    "    \n",
    "print \"(id, time, draft)\"\n",
    "for row in change_pts_result:\n",
    "    print row\n",
    "    \n",
    "plot_multi_series(change_pts_result)"
   ]
  },
  {
   "cell_type": "markdown",
   "metadata": {},
   "source": [
    "And here they are, merged, parsimonious time series that capture when the draft changes, for two vessel, from two different sensors.\n",
    "\n",
    "Note that I specified a key for `unique_everseen` to understand which part of the tuples to use for the queality comparison: I want to determine uniqueness only by the vessel id and draft values (tuple elements 0 and 2). Since the tuples are ordered by time, this results in sorted stream with duplicated draft readings for each vessel filtered out."
   ]
  },
  {
   "cell_type": "markdown",
   "metadata": {},
   "source": [
    "## Final remarks: scaling, distributing, batch and real-time processing\n",
    "Don't let the simplicity of this approach fool you. It is a powerful way to combine many sources of data on small-ish compute nodes and a fundamental building block for more sophisticated analyses. In my work I use versions of it to process  $\\approx$ 500 million AIS messages from 2-5 sources of AIS data from a SQL Server every month. On my HortonWorks VM running on a quad-core Intel processor, this takes approximately 15 minutes and a small blip in memory usage. It is a perfect match for batch processing of slowly-changing attributes in large datasets and it has been a huge helper for me when I need to prepare data for machine learning algorithms and visualizations. \n",
    "\n",
    "I deal mostly with historical analyses of data, for which higher latency is acceptable and the entire data over the period of analysis is available. Therefore, delegating the initial sorting and row ordering of the individual streams to the database is feasible and indeed desirable. This approach can be extended to geographically distributed data sources, for example to a scenario where data from hundreds of storage-capable AIS receivers provide the data streams for periodic merging.\n",
    "\n",
    "I used the term *stream* to indicate that the data are read in sequence; it is not to be confused with real-time. If you need to merge and sort in real time, then you may need to read small buffers from the data sources in memory and perform the sorting and merging on each buffer within the Python program, accepting that you may obtain only approximate results on time windows larger than the buffer size: speed costs accuracy. Of course, then other frameworks, like [Storm](http://storm.apache.org/) and [SparkStreaming](http://spark.apache.org/streaming/) may be more appropriate, and you may also consider [Lambda Architecture](http://lambda-architecture.net/) in your system design."
   ]
  },
  {
   "cell_type": "markdown",
   "metadata": {},
   "source": [
    "#### Further reading\n",
    "* [Sorting 1M 32-bit integers in 2 MB of RAM using Python](http://neopythonic.blogspot.it/2008/10/sorting-million-32-bit-integers-in-2mb.html), by Guido van Rossum\n",
    "* Let your mind be blown by [Dave Beazley's](http://www.dabeaz.com) PyCon presentation on [Python generators](http://www.dabeaz.com/finalgenerator/index.html).\n",
    "* Background on [AIS](https://en.wikipedia.org/wiki/Automatic_Identification_System)\n",
    "* [Binary heap on Wikipedia](https://en.wikipedia.org/wiki/Binary_heap), the data structure that enables the magic in `heapq.merge()`"
   ]
  },
  {
   "cell_type": "markdown",
   "metadata": {},
   "source": [
    "**License**\n",
    "You may use and modify this Jupyter notebook under the terms of the [BSD license](https://opensource.org/licenses). Download the the [supporting sqlite database]({{site.baseurl}}/downloads/vessel_draft.sqlite)."
   ]
  }
 ],
 "metadata": {
  "kernelspec": {
   "display_name": "Python 3",
   "language": "python",
   "name": "python3"
  },
  "language_info": {
   "codemirror_mode": {
    "name": "ipython",
    "version": 3
   },
   "file_extension": ".py",
   "mimetype": "text/x-python",
   "name": "python",
   "nbconvert_exporter": "python",
   "pygments_lexer": "ipython3",
   "version": "3.8.5"
  }
 },
 "nbformat": 4,
 "nbformat_minor": 4
}
